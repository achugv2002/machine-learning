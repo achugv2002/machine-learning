{
  "nbformat": 4,
  "nbformat_minor": 0,
  "metadata": {
    "colab": {
      "provenance": [],
      "authorship_tag": "ABX9TyPV6NEelGHxleasPeMl2pnb",
      "include_colab_link": true
    },
    "kernelspec": {
      "name": "python3",
      "display_name": "Python 3"
    },
    "language_info": {
      "name": "python"
    }
  },
  "cells": [
    {
      "cell_type": "markdown",
      "metadata": {
        "id": "view-in-github",
        "colab_type": "text"
      },
      "source": [
        "<a href=\"https://colab.research.google.com/github/achugv2002/machine-learning/blob/main/Ict_day1.ipynb\" target=\"_parent\"><img src=\"https://colab.research.google.com/assets/colab-badge.svg\" alt=\"Open In Colab\"/></a>"
      ]
    },
    {
      "cell_type": "code",
      "execution_count": null,
      "metadata": {
        "id": "UCoNOQMdB0Yj",
        "colab": {
          "base_uri": "https://localhost:8080/"
        },
        "outputId": "e5704caa-4838-44ff-df67-ed0a0367dfff"
      },
      "outputs": [
        {
          "output_type": "stream",
          "name": "stdout",
          "text": [
            "goutham\n",
            "achu\n"
          ]
        }
      ],
      "source": [
        "array = ['achu','goutham']\n",
        "for i in range(len(array)-1,-1,-1):\n",
        "  print(array[i])"
      ]
    },
    {
      "cell_type": "code",
      "source": [
        "print('\\'print end\\'')"
      ],
      "metadata": {
        "colab": {
          "base_uri": "https://localhost:8080/"
        },
        "id": "ejpvEMKfRpcy",
        "outputId": "3d5326bd-c20a-4ed2-bb85-dfe59992bec0"
      },
      "execution_count": null,
      "outputs": [
        {
          "output_type": "stream",
          "name": "stdout",
          "text": [
            "'print end'\n"
          ]
        }
      ]
    },
    {
      "cell_type": "code",
      "execution_count": null,
      "metadata": {
        "colab": {
          "base_uri": "https://localhost:8080/"
        },
        "id": "hfLvOYzjI-Oo",
        "outputId": "b2f3ec23-8fa3-4e6b-fb8b-2f642af64f15"
      },
      "outputs": [
        {
          "output_type": "stream",
          "name": "stdout",
          "text": [
            "* * * *\n",
            "* * * *\n",
            "* * * *\n",
            "* * * *\n"
          ]
        }
      ],
      "source": [
        "for i in range(4):\n",
        " print('* * * *')"
      ]
    },
    {
      "cell_type": "code",
      "source": [
        "print('print'  *4)"
      ],
      "metadata": {
        "colab": {
          "base_uri": "https://localhost:8080/"
        },
        "id": "sRussLg7TT8S",
        "outputId": "b5b56df9-9965-4b44-a107-034af5b5b1ab"
      },
      "execution_count": null,
      "outputs": [
        {
          "output_type": "stream",
          "name": "stdout",
          "text": [
            "printprintprintprint\n"
          ]
        }
      ]
    },
    {
      "cell_type": "code",
      "source": [
        "print(\"Welcome to\",end = '')\n",
        "print(\"the World of Python\",end = '|')\n",
        "print(\"\\\"Welcome to the world of Python\\\"\")"
      ],
      "metadata": {
        "colab": {
          "base_uri": "https://localhost:8080/"
        },
        "id": "iomHPloEToBM",
        "outputId": "b2306692-9b0d-469a-9172-34f33f9139aa"
      },
      "execution_count": null,
      "outputs": [
        {
          "output_type": "stream",
          "name": "stdout",
          "text": [
            "Welcome tothe World of Python|\"Welcome to the world of Python\"\n"
          ]
        }
      ]
    },
    {
      "cell_type": "code",
      "source": [
        "print(\"Python\\n\"*3)"
      ],
      "metadata": {
        "colab": {
          "base_uri": "https://localhost:8080/"
        },
        "id": "UDkF-JPqXfHl",
        "outputId": "7c2b266c-a64b-4c14-c6cd-e3ac2cd787a8"
      },
      "execution_count": null,
      "outputs": [
        {
          "output_type": "stream",
          "name": "stdout",
          "text": [
            "Python\n",
            "Python\n",
            "Python\n",
            "\n"
          ]
        }
      ]
    },
    {
      "cell_type": "code",
      "source": [
        "s=\"achu\"\n",
        "print(s[0])\n",
        "print(s[1])\n",
        "print(len(s))\n",
        "print(s[-3])\n",
        "print(s[0:4])\n",
        "print(s[:3])\n",
        "print(s[-5:-2])\n",
        "print(s[0:6:2])"
      ],
      "metadata": {
        "colab": {
          "base_uri": "https://localhost:8080/"
        },
        "id": "RaGUK2TDYdhH",
        "outputId": "77e1590d-9c89-48f6-be96-a33d9f430f5f"
      },
      "execution_count": null,
      "outputs": [
        {
          "output_type": "stream",
          "name": "stdout",
          "text": [
            "a\n",
            "c\n",
            "4\n",
            "c\n",
            "achu\n",
            "ach\n",
            "ac\n",
            "ah\n"
          ]
        }
      ]
    },
    {
      "cell_type": "code",
      "source": [
        "animals =[\"cat\",\"dog\",\"mouse\"]\n",
        "for animal in animals:\n",
        "  print(\"hi\"+ animal)"
      ],
      "metadata": {
        "colab": {
          "base_uri": "https://localhost:8080/"
        },
        "id": "bPqH1KMWs3yy",
        "outputId": "3ffb2cfd-84ca-4725-f750-7e0149e632df"
      },
      "execution_count": null,
      "outputs": [
        {
          "output_type": "stream",
          "name": "stdout",
          "text": [
            "hicat\n",
            "hidog\n",
            "himouse\n"
          ]
        }
      ]
    },
    {
      "cell_type": "code",
      "source": [
        "for value in \"string\":\n",
        "  if value == \"i\":\n",
        "   break\n",
        "  print(value)"
      ],
      "metadata": {
        "colab": {
          "base_uri": "https://localhost:8080/"
        },
        "id": "iW6oQmTrUMOV",
        "outputId": "564f6004-7c22-454c-bd3b-f6adcf1f6512"
      },
      "execution_count": null,
      "outputs": [
        {
          "output_type": "stream",
          "name": "stdout",
          "text": [
            "s\n",
            "t\n",
            "r\n"
          ]
        }
      ]
    },
    {
      "cell_type": "markdown",
      "source": [],
      "metadata": {
        "id": "hzbL3WqfWQq0"
      }
    },
    {
      "cell_type": "markdown",
      "source": [
        "for val in sequence: \n",
        "  Body of for  ------- for loop syntax\n",
        "\n",
        "while condition:\n",
        " statement\n",
        "else:\n",
        " statement -------- while syntax\n",
        "\n",
        "delete from array- pop\n",
        "add to an array- append \n"
      ],
      "metadata": {
        "id": "kg0zHbg5sXrJ"
      }
    },
    {
      "cell_type": "code",
      "source": [
        "for val in \"string\":\n",
        " if val == \"i\":\n",
        "  continue\n",
        "print(val)\n",
        "print(\"The end\")"
      ],
      "metadata": {
        "colab": {
          "base_uri": "https://localhost:8080/"
        },
        "id": "ArY8zdIcvwIH",
        "outputId": "41dbe92c-52d1-4fa8-ab2f-d880d4f1a869"
      },
      "execution_count": null,
      "outputs": [
        {
          "output_type": "stream",
          "name": "stdout",
          "text": [
            "g\n",
            "The end\n"
          ]
        }
      ]
    },
    {
      "cell_type": "code",
      "source": [
        "a=int(input(\"Enter number 1:\"))\n",
        "b=int(input(\"Enter number 2:\"))\n",
        "print(\"Enter your choice :\")\n",
        "print(\"1)Add\\n2)Subtract\\n3)Multiply\\n4)Divide\")\n",
        "c=int(input())\n",
        "if c==1:\n",
        "  print(\"Sum =\",a + b)\n",
        "elif c==2:\n",
        "  print(\"Sub =\",a-b)\n",
        "elif c==3:\n",
        "  print(\"Prdt =\",a*b)\n",
        "else:\n",
        "  print(\"Div =\",a/b)"
      ],
      "metadata": {
        "colab": {
          "base_uri": "https://localhost:8080/"
        },
        "id": "ldv1QnGqv9Vl",
        "outputId": "deebc609-d635-4730-c44e-cc7f2b4c987d"
      },
      "execution_count": null,
      "outputs": [
        {
          "output_type": "stream",
          "name": "stdout",
          "text": [
            "Enter number 1:7\n",
            "Enter number 2:7\n",
            "Enter your choice :\n",
            "1)Add\n",
            "2)Subtract\n",
            "3)Multiply\n",
            "4)Divide\n",
            "1\n",
            "Sum = 14\n"
          ]
        }
      ]
    },
    {
      "cell_type": "code",
      "source": [
        "a=int(input(\"Enter the number to be checked:\"))\n",
        "if a==1:\n",
        "  print(\"Neither prime nor composite\")\n",
        "elif a>1:\n",
        "  for i in range(2,a):\n",
        "    if a % i == 0:\n",
        "      flag=1\n",
        "    else:\n",
        "      flag=0\n",
        "  if flag==1:\n",
        "   print(\"The number is composite\")\n",
        "  else:\n",
        "   print(\"The number is prime\")"
      ],
      "metadata": {
        "colab": {
          "base_uri": "https://localhost:8080/"
        },
        "id": "ZJVXik-N2EYn",
        "outputId": "c1d87d3f-95ff-4305-f335-2e0ce8afafa1"
      },
      "execution_count": null,
      "outputs": [
        {
          "output_type": "stream",
          "name": "stdout",
          "text": [
            "Enter the number to be checked:7\n",
            "The number is prime\n"
          ]
        }
      ]
    },
    {
      "cell_type": "code",
      "source": [
        "a=float(input(\"enter the number to be searched\"))\n",
        "if a%4==0 and a%400==0 or a%100!=0:\n",
        "  print(\"it is a leap year\")\n",
        "else:\n",
        "  print(\"it is not a leap year\")"
      ],
      "metadata": {
        "colab": {
          "base_uri": "https://localhost:8080/"
        },
        "id": "P83qGGGX_cTY",
        "outputId": "13ce8e24-6127-4083-f252-9bf5d118853c"
      },
      "execution_count": null,
      "outputs": [
        {
          "output_type": "stream",
          "name": "stdout",
          "text": [
            "enter the number to be searched2024\n",
            "it is a leap year\n"
          ]
        }
      ]
    },
    {
      "cell_type": "code",
      "source": [
        "a=int(input(\"Enter the number till which sum is to be found: \"))\n",
        "sum=0\n",
        "for i in range(0,a+1):\n",
        "  sum = sum + i\n",
        "print(sum)"
      ],
      "metadata": {
        "colab": {
          "base_uri": "https://localhost:8080/"
        },
        "id": "Ei6G7macAUEJ",
        "outputId": "932f9175-9ca7-4c89-f306-1ca5045ade74"
      },
      "execution_count": null,
      "outputs": [
        {
          "output_type": "stream",
          "name": "stdout",
          "text": [
            "Enter the number till which sum is to be found: 700\n",
            "245350\n"
          ]
        }
      ]
    },
    {
      "cell_type": "markdown",
      "source": [],
      "metadata": {
        "id": "HVnYyeETWIh_"
      }
    },
    {
      "cell_type": "markdown",
      "source": [
        "**def --- used to define a function\n",
        "Syntax --- def function_name(argument):\n",
        "              operation**"
      ],
      "metadata": {
        "id": "8ngJFYpVFR23"
      }
    },
    {
      "cell_type": "code",
      "source": [
        "def greet():\n",
        "  print(\"hello\")\n",
        "\n",
        "greet()"
      ],
      "metadata": {
        "id": "G1CoMwWmEOhL",
        "colab": {
          "base_uri": "https://localhost:8080/"
        },
        "outputId": "47eda426-f6eb-4764-93cb-121a31daeb66"
      },
      "execution_count": null,
      "outputs": [
        {
          "output_type": "stream",
          "name": "stdout",
          "text": [
            "hello\n"
          ]
        }
      ]
    },
    {
      "cell_type": "code",
      "source": [
        "def add(a,b):\n",
        "  print(\"sum =\",a+b)"
      ],
      "metadata": {
        "id": "SeJ7APyKF89t"
      },
      "execution_count": null,
      "outputs": []
    },
    {
      "cell_type": "code",
      "source": [
        "a=7\n",
        "b=7\n",
        "add(a,b)"
      ],
      "metadata": {
        "colab": {
          "base_uri": "https://localhost:8080/"
        },
        "id": "detCxaOUGLL7",
        "outputId": "ace9d593-c07b-4c82-ddc9-02fe877a3b22"
      },
      "execution_count": null,
      "outputs": [
        {
          "output_type": "stream",
          "name": "stdout",
          "text": [
            "sum = 14\n"
          ]
        }
      ]
    },
    {
      "cell_type": "code",
      "source": [
        "def square(a):\n",
        "  print(\"Square of the number is: \",a*a)\n",
        "\n",
        "number=int(input(\"Enter number to find square: \"))\n",
        "square(number)"
      ],
      "metadata": {
        "id": "wrnr9G_HJxNV",
        "colab": {
          "base_uri": "https://localhost:8080/"
        },
        "outputId": "e947889e-5052-4c14-e320-77da264aa05f"
      },
      "execution_count": null,
      "outputs": [
        {
          "output_type": "stream",
          "name": "stdout",
          "text": [
            "Enter number to find square: 7\n",
            "Square of the number is:  49\n"
          ]
        }
      ]
    }
  ]
}